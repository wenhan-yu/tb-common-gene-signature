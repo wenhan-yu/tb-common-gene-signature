{
 "cells": [
  {
   "cell_type": "markdown",
   "metadata": {},
   "source": [
    "#### Load packages"
   ]
  },
  {
   "cell_type": "code",
   "execution_count": 3,
   "metadata": {},
   "outputs": [],
   "source": [
    "library(Biobase)\n",
    "library(GEOquery)\n",
    "library(limma)\n",
    "library(repr)\n",
    "library(edgeR)\n",
    "library(preprocessCore)\n",
    "library(MetaIntegrator)\n",
    "library(org.Hs.eg.db)\n",
    "library(Jmisc)\n",
    "library(biomaRt)"
   ]
  },
  {
   "cell_type": "markdown",
   "metadata": {},
   "source": [
    "#### Paramter setting"
   ]
  },
  {
   "cell_type": "code",
   "execution_count": 6,
   "metadata": {},
   "outputs": [
    {
     "name": "stdout",
     "output_type": "stream",
     "text": [
      "Loading...\n",
      "  fun/R/aliasMapping.R \n",
      "  fun/R/array_normalize.r \n",
      "  fun/R/array_process_qc_alt.R \n",
      "  fun/R/array_process_qc.R \n",
      "  fun/R/dataset_info.R \n",
      "  fun/R/diff_exp_array_analysis.R \n",
      "  fun/R/diff_exp_seq_analysis.R \n",
      "  fun/R/draw_boxplot.R \n",
      "  fun/R/ensembl2genesymbol.R \n",
      "  fun/R/geneLength.r \n",
      "  fun/R/geo_process.R \n",
      "  fun/R/idsmap.r \n",
      "  fun/R/probe2genesymbol.R \n",
      "  fun/R/seq_process_qc.R \n",
      "  fun/R/UniqueGene_probe.r \n",
      "Done\n"
     ]
    }
   ],
   "source": [
    "#Specify the place to store normalized gene expression data\n",
    "norm_exp_data <- paste(\"../validation-dataset/viral-infection-dataset/\", sep = \"\")\n",
    "dir.create(norm_exp_data, showWarnings = FALSE)\n",
    "#Load the self-defined functions\n",
    "sourceAll('fun/R')\n",
    "#Assign Vroom connection buffer size allowing getGEO to process large data \n",
    "Sys.setenv(\"VROOM_CONNECTION_SIZE\" = 524288 * 2)"
   ]
  },
  {
   "cell_type": "code",
   "execution_count": 7,
   "metadata": {},
   "outputs": [
    {
     "data": {
      "text/plain": [
       "R version 4.0.3 (2020-10-10)\n",
       "Platform: x86_64-conda-linux-gnu (64-bit)\n",
       "Running under: Amazon Linux 2\n",
       "\n",
       "Matrix products: default\n",
       "BLAS/LAPACK: /shared/software/anaconda3/envs/tb-gene-signature-update/lib/libopenblasp-r0.3.18.so\n",
       "\n",
       "locale:\n",
       " [1] LC_CTYPE=en_US.UTF-8       LC_NUMERIC=C              \n",
       " [3] LC_TIME=en_US.UTF-8        LC_COLLATE=en_US.UTF-8    \n",
       " [5] LC_MONETARY=en_US.UTF-8    LC_MESSAGES=en_US.UTF-8   \n",
       " [7] LC_PAPER=en_US.UTF-8       LC_NAME=C                 \n",
       " [9] LC_ADDRESS=C               LC_TELEPHONE=C            \n",
       "[11] LC_MEASUREMENT=en_US.UTF-8 LC_IDENTIFICATION=C       \n",
       "\n",
       "attached base packages:\n",
       "[1] stats4    parallel  stats     graphics  grDevices utils     datasets \n",
       "[8] methods   base     \n",
       "\n",
       "other attached packages:\n",
       " [1] viridis_0.6.2         viridisLite_0.4.0     biomaRt_2.46.3       \n",
       " [4] Jmisc_0.3.1           org.Hs.eg.db_3.12.0   AnnotationDbi_1.52.0 \n",
       " [7] IRanges_2.24.1        S4Vectors_0.28.1      MetaIntegrator_2.1.3 \n",
       "[10] preprocessCore_1.55.2 edgeR_3.32.1          repr_1.1.3           \n",
       "[13] limma_3.46.0          GEOquery_2.58.0       Biobase_2.50.0       \n",
       "[16] BiocGenerics_0.36.1  \n",
       "\n",
       "loaded via a namespace (and not attached):\n",
       " [1] bit64_4.0.5          progress_1.2.2       httr_1.4.2          \n",
       " [4] tools_4.0.3          backports_1.4.1      utf8_1.2.2          \n",
       " [7] R6_2.5.1             DBI_1.1.1            colorspace_2.0-2    \n",
       "[10] gridExtra_2.3        tidyselect_1.1.1     prettyunits_1.1.1   \n",
       "[13] bit_4.0.4            curl_4.3.2           compiler_4.0.3      \n",
       "[16] xml2_1.3.3           scales_1.1.1         readr_2.1.1         \n",
       "[19] askpass_1.1          rappdirs_0.3.3       pbdZMQ_0.3-6        \n",
       "[22] stringr_1.4.0        digest_0.6.29        base64enc_0.1-3     \n",
       "[25] pkgconfig_2.0.3      htmltools_0.5.2      dbplyr_2.1.1        \n",
       "[28] fastmap_1.1.0        rlang_0.4.12         RSQLite_2.2.9       \n",
       "[31] generics_0.1.1       jsonlite_1.7.2       dplyr_1.0.7         \n",
       "[34] car_3.0-12           magrittr_2.0.1       Rcpp_1.0.7          \n",
       "[37] IRkernel_1.2         munsell_0.5.0        fansi_0.5.0         \n",
       "[40] abind_1.4-5          lifecycle_1.0.1      stringi_1.7.6       \n",
       "[43] carData_3.0-4        BiocFileCache_1.14.0 grid_4.0.3          \n",
       "[46] blob_1.2.2           promises_1.2.0.1     crayon_1.4.2        \n",
       "[49] lattice_0.20-45      IRdisplay_1.0        hms_1.1.1           \n",
       "[52] locfit_1.5-9.4       pillar_1.6.4         ggpubr_0.4.0        \n",
       "[55] uuid_1.0-3           ggsignif_0.6.3       XML_3.99-0.8        \n",
       "[58] glue_1.6.0           evaluate_0.14        data.table_1.14.2   \n",
       "[61] vctrs_0.3.8          tzdb_0.2.0           httpuv_1.6.4        \n",
       "[64] gtable_0.3.0         openssl_1.4.5        purrr_0.3.4         \n",
       "[67] tidyr_1.1.4          assertthat_0.2.1     cachem_1.0.6        \n",
       "[70] ggplot2_3.3.5        broom_0.7.10         rstatix_0.7.0       \n",
       "[73] later_1.3.0          tibble_3.1.6         memoise_2.0.1       \n",
       "[76] ellipsis_0.3.2       ROCR_1.0-11         "
      ]
     },
     "metadata": {},
     "output_type": "display_data"
    }
   ],
   "source": [
    "sessionInfo()"
   ]
  },
  {
   "cell_type": "code",
   "execution_count": null,
   "metadata": {},
   "outputs": [],
   "source": [
    "#Read viral infection datasets with GEO GES ids\n",
    "df_viral_dataset <- readxl::read_xlsx(\"viral infection datasets.xlsx\", skip = 1)\n",
    "df_viral_dataset <- df_viral_dataset[-c(1),]\n",
    "df_viral_dataset <- df_viral_dataset[which(df_viral_dataset$`RNA-Seq or Microarray` == \"Microarray\" & df_viral_dataset$`Sample Type` %in% c(\"WB\",\"PBMC\")), ]\n",
    "df_viral_dataset <- df_viral_dataset[-c(1),]\n",
    "gse_ids <- unlist(stringr::str_extract_all(df_viral_dataset$Dataset, \"GSE\\\\d+\"))\n",
    "df_viral_dataset[,c(\"GSE_ID\")] <- gse_ids\n",
    "gse_id_v <- unique(df_viral_dataset[,c(\"GSE_ID\",\"platform id\")])\n",
    "\n",
    "#Loop each dataset\n",
    "for(j in seq(nrow(gse_id_v))){\n",
    "    print(j)\n",
    "    GSE_ID <- as.character(gse_id_v[c(j),][1])\n",
    "    platform_id <- as.character(gse_id_v[c(j),][2])\n",
    "    platform_id <-  str_replace_all(platform_id, fixed(\" \"), \"\")\n",
    "    print(GSE_ID)\n",
    "   #Download microarray data from GEO\n",
    "    array_process_qc_alt(GSE_ID, platform_id, norm_exp_data, TRUE) \n",
    "}"
   ]
  }
 ],
 "metadata": {
  "kernelspec": {
   "display_name": "R [conda env:tb-gene-signature-update]",
   "language": "R",
   "name": "conda-env-tb-gene-signature-update-r"
  },
  "language_info": {
   "codemirror_mode": "r",
   "file_extension": ".r",
   "mimetype": "text/x-r-source",
   "name": "R",
   "pygments_lexer": "r",
   "version": "4.0.3"
  }
 },
 "nbformat": 4,
 "nbformat_minor": 4
}
