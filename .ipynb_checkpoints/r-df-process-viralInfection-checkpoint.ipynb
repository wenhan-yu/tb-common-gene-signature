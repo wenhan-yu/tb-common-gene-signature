{
 "cells": [
  {
   "cell_type": "markdown",
   "metadata": {},
   "source": [
    "#### Load packages"
   ]
  },
  {
   "cell_type": "code",
   "execution_count": 2,
   "metadata": {},
   "outputs": [],
   "source": [
    "library(Biobase)\n",
    "library(GEOquery)\n",
    "library(limma)\n",
    "library(repr)\n",
    "library(edgeR)\n",
    "library(preprocessCore)\n",
    "library(MetaIntegrator)\n",
    "library(org.Hs.eg.db)\n",
    "library(Jmisc)\n",
    "library(biomaRt)"
   ]
  },
  {
   "cell_type": "markdown",
   "metadata": {},
   "source": [
    "#### Paramter setting"
   ]
  },
  {
   "cell_type": "code",
   "execution_count": 31,
   "metadata": {},
   "outputs": [
    {
     "name": "stdout",
     "output_type": "stream",
     "text": [
      "Loading...\n",
      "  /efs/bioinformatics/projects/tb-gene-signature/code/fun/R/aliasMapping.R \n",
      "  /efs/bioinformatics/projects/tb-gene-signature/code/fun/R/array_normalize.r \n",
      "  /efs/bioinformatics/projects/tb-gene-signature/code/fun/R/array_process_qc_alt1.R \n",
      "  /efs/bioinformatics/projects/tb-gene-signature/code/fun/R/array_process_qc.R \n",
      "  /efs/bioinformatics/projects/tb-gene-signature/code/fun/R/dataset_info.R \n",
      "  /efs/bioinformatics/projects/tb-gene-signature/code/fun/R/diff_exp_array_analysis.R \n",
      "  /efs/bioinformatics/projects/tb-gene-signature/code/fun/R/diff_exp_seq_analysis.R \n",
      "  /efs/bioinformatics/projects/tb-gene-signature/code/fun/R/draw_boxplot.R \n",
      "  /efs/bioinformatics/projects/tb-gene-signature/code/fun/R/ensembl2genesymbol.R \n",
      "  /efs/bioinformatics/projects/tb-gene-signature/code/fun/R/geneLength.r \n",
      "  /efs/bioinformatics/projects/tb-gene-signature/code/fun/R/geo_process.R \n",
      "  /efs/bioinformatics/projects/tb-gene-signature/code/fun/R/idsmap.r \n",
      "  /efs/bioinformatics/projects/tb-gene-signature/code/fun/R/probe2genesymbol.R \n",
      "  /efs/bioinformatics/projects/tb-gene-signature/code/fun/R/seq_process_qc.R \n",
      "  /efs/bioinformatics/projects/tb-gene-signature/code/fun/R/UniqueGene_probe.r \n",
      "Done\n"
     ]
    }
   ],
   "source": [
    "#Specify the place to store normalized gene expression data\n",
    "norm_exp_data <- paste(\"../validation-dataset/viral-infection-dataset/\", sep = \"\")\n",
    "dir.create(norm_exp_data, showWarnings = FALSE)\n",
    "#Load the self-defined functions\n",
    "sourceAll('/fun/R')\n",
    "#Assign Vroom connection buffer size allowing getGEO to process large data \n",
    "Sys.setenv(\"VROOM_CONNECTION_SIZE\" = 524288 * 2)"
   ]
  },
  {
   "cell_type": "code",
   "execution_count": null,
   "metadata": {},
   "outputs": [],
   "source": [
    "#Read viral infection datasets with GEO GES ids\n",
    "df_viral_dataset <- readxl::read_xlsx(\"viral infection datasets.xlsx\", skip = 1)\n",
    "df_viral_dataset <- df_viral_dataset[-c(1),]\n",
    "df_viral_dataset <- df_viral_dataset[which(df_viral_dataset$`RNA-Seq or Microarray` == \"Microarray\" & df_viral_dataset$`Sample Type` %in% c(\"WB\",\"PBMC\")), ]\n",
    "df_viral_dataset <- df_viral_dataset[-c(1),]\n",
    "gse_ids <- unlist(stringr::str_extract_all(df_viral_dataset$Dataset, \"GSE\\\\d+\"))\n",
    "df_viral_dataset[,c(\"GSE_ID\")] <- gse_ids\n",
    "gse_id_v <- unique(df_viral_dataset[,c(\"GSE_ID\",\"platform id\")])\n",
    "\n",
    "#Loop each dataset\n",
    "for(j in seq(nrow(gse_id_v))){\n",
    "    print(j)\n",
    "    GSE_ID <- as.character(gse_id_v[c(j),][1])\n",
    "    platform_id <- as.character(gse_id_v[c(j),][2])\n",
    "    platform_id <-  str_replace_all(platform_id, fixed(\" \"), \"\")\n",
    "    print(GSE_ID)\n",
    "   #Download microarray data from GEO\n",
    "    array_process_qc_alt(GSE_ID, platform_id, norm_exp_data, TRUE) \n",
    "}"
   ]
  }
 ],
 "metadata": {
  "kernelspec": {
   "display_name": "R [conda env:tb-gene-signature-update]",
   "language": "R",
   "name": "conda-env-tb-gene-signature-update-r"
  },
  "language_info": {
   "codemirror_mode": "r",
   "file_extension": ".r",
   "mimetype": "text/x-r-source",
   "name": "R",
   "pygments_lexer": "r",
   "version": "4.0.3"
  }
 },
 "nbformat": 4,
 "nbformat_minor": 4
}
